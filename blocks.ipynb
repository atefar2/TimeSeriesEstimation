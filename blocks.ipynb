{
 "cells": [
  {
   "cell_type": "code",
   "execution_count": 5,
   "metadata": {
    "collapsed": false
   },
   "outputs": [
    {
     "name": "stdout",
     "output_type": "stream",
     "text": [
      "The autoreload extension is already loaded. To reload it, use:\n",
      "  %reload_ext autoreload\n"
     ]
    }
   ],
   "source": [
    "%matplotlib inline\n",
    "%load_ext autoreload\n",
    "%autoreload 2\n",
    "import numpy as np \n",
    "import pandas as pd\n",
    "import matplotlib.pyplot as plt\n",
    "import matplotlib\n",
    "import theano\n",
    "import pickle\n",
    "\n",
    "matplotlib.style.use('ggplot')\n",
    "\n",
    "np.random.seed(1234)\n",
    "\n",
    "import astropy.stats as astropy"
   ]
  },
  {
   "cell_type": "code",
   "execution_count": 20,
   "metadata": {
    "collapsed": false
   },
   "outputs": [],
   "source": [
    "X0 = pickle.load(open('tmp_X0.dat','r'))\n",
    "X1 = pickle.load(open('tmp_X1.dat','r'))"
   ]
  },
  {
   "cell_type": "code",
   "execution_count": 21,
   "metadata": {
    "collapsed": false
   },
   "outputs": [
    {
     "data": {
      "text/plain": [
       "(5000, 1)"
      ]
     },
     "execution_count": 21,
     "metadata": {},
     "output_type": "execute_result"
    }
   ],
   "source": [
    "X0.shape"
   ]
  },
  {
   "cell_type": "code",
   "execution_count": 94,
   "metadata": {
    "collapsed": true
   },
   "outputs": [],
   "source": [
    "bins_n = 30\n",
    "eps = 0.1\n",
    "t_min = max(0, min(np.min(X0), np.min(X1)) - eps)\n",
    "t_max = min(1, max(np.max(X0), np.max(X1)) + eps)\n",
    "range = [(t_min, t_max)]\n",
    "reals2 = np.linspace(0, 1, 500)\n",
    "normed = False"
   ]
  },
  {
   "cell_type": "code",
   "execution_count": 160,
   "metadata": {
    "collapsed": false
   },
   "outputs": [],
   "source": [
    "def overflowbins(h,e):\n",
    "    h = np.insert(h, 0, 0., axis=0)\n",
    "    h = np.insert(h, h.shape[0], 0., axis=0)\n",
    "    e[0] = np.insert(e[0], 0, -np.inf)\n",
    "    e[0] = np.insert(e[0], len(e[0]), np.inf)\n",
    "    return h,e\n",
    "\n",
    "def pdf(X,h,e):\n",
    "    all_indices = []\n",
    "    indices = np.searchsorted(e[0],\n",
    "                              X[:, 0],\n",
    "                              side=\"right\") - 1\n",
    "\n",
    "    # For the last bin, the upper is inclusive\n",
    "    indices[X[:, 0] == e[0][-2]] -= 1\n",
    "    all_indices.append(indices)\n",
    "\n",
    "    return h[all_indices]\n",
    "\n",
    "import pdb\n",
    "\n",
    "def density(h,e):\n",
    "    #bins = [0.] + e + [1.]\n",
    "    bins = e\n",
    "    widths = bins[1:] - bins[:-1]\n",
    "    norm_h = h / widths / h.sum()\n",
    "    return norm_h\n",
    "    "
   ]
  },
  {
   "cell_type": "code",
   "execution_count": 163,
   "metadata": {
    "collapsed": false
   },
   "outputs": [],
   "source": [
    "h0, e0 = np.histogramdd(X0, bins=bins_n, range=range,normed=True) \n",
    "h1, e1 = np.histogramdd(X1, bins=bins_n, range=range,normed=True) \n",
    "h0,e0 = overflowbins(h0,e0)\n",
    "h1,e1 = overflowbins(h1,e1)\n",
    "# Under-overflow bins"
   ]
  },
  {
   "cell_type": "code",
   "execution_count": 164,
   "metadata": {
    "collapsed": false
   },
   "outputs": [
    {
     "name": "stdout",
     "output_type": "stream",
     "text": [
      "15\n",
      "5000\n"
     ]
    }
   ],
   "source": [
    "# Using same count bins\n",
    "N = 15 # number of bins\n",
    "splits = np.array_split(np.sort(X0.ravel()), N)\n",
    "print(len(splits))\n",
    "print(X0.shape[0])\n",
    "base = [splits[0][0]] + [x[-1] for x in splits]\n",
    "base = np.array(base)\n",
    "bins = base\n",
    "h0_b, e0_b = np.histogram(X0.ravel(), bins=bins, range=(0.,1.),normed=normed)\n",
    "h0_b = density(h0_b, e0_b)\n",
    "e0_b = [e0_b]\n",
    "\n",
    "splits = np.array_split(np.sort(X1.ravel()), N)\n",
    "base = [splits[0][0]] + [x[-1] for x in splits]\n",
    "base = np.array(base)\n",
    "bins = base #da, bins = astropy.scott_bin_width(X.ravel(), True)\n",
    "h1_b, e1_b = np.histogram(X1.ravel(), bins=bins, range=(0.,1.), normed=normed)\n",
    "h1_b = density(h1_b, e1_b)\n",
    "e1_b = [e1_b]\n",
    "\n",
    "h0_b,e0_b = overflowbins(h0_b,e0_b)\n",
    "h1_b,e1_b = overflowbins(h1_b,e1_b)"
   ]
  },
  {
   "cell_type": "code",
   "execution_count": 134,
   "metadata": {
    "collapsed": false
   },
   "outputs": [
    {
     "name": "stdout",
     "output_type": "stream",
     "text": [
      "[  0  35  77  16  17   4  11  42 242  13  81  17   3 118 133  93 163 133\n",
      "  10  51   9  19  62   2  84   5 188 140   2  14  69   3  59   8 142   4\n",
      "  18   5 493   6 107   3  98  95  16  12  88  31  73  23  41  17  13  72\n",
      "  20   8  14  39  18   3  12   3  11  20   7  10   2  18  30   3  16   5\n",
      "  23   9  17  10   5  14   9  16  10  21   6  17   4   8 212  31  33  28\n",
      " 126   3  90   3  95   1 101   2  76   2  88   4 106   6  48   2  54   1\n",
      "  57   3  57   1  31   4  26  21   0]\n"
     ]
    }
   ],
   "source": [
    "\n",
    "bins = astropy.bayesian_blocks(X0.ravel(), fitness='events',p0=0.9)\n",
    "#print(bins)\n",
    "#da, bins = astropy.scott_bin_width(X.ravel(), True)\n",
    "h0_b, e0_b = np.histogram(X0.ravel(), bins=bins, range=range[0],normed=normed)\n",
    "\n",
    "e0_b = [e0_b]\n",
    "bins = astropy.bayesian_blocks(X1.ravel(), fitness='events',p0=0.9)\n",
    "#da, bins = astropy.scott_bin_width(X.ravel(), True)\n",
    "h1_b, e1_b = np.histogram(X1.ravel(), bins=bins, range=range[0],normed=normed)\n",
    "e1_b = [e1_b]\n",
    "\n",
    "h0_b,e0_b = overflowbins(h0_b,e0_b)\n",
    "h1_b,e1_b = overflowbins(h1_b,e1_b)\n",
    "print(h0_b)"
   ]
  },
  {
   "cell_type": "code",
   "execution_count": 168,
   "metadata": {
    "collapsed": false
   },
   "outputs": [
    {
     "data": {
      "image/png": "[encoded data removed]",
      "text/plain": [
       "<matplotlib.figure.Figure at 0x74c9290>"
      ]
     },
     "metadata": {},
     "output_type": "display_data"
    }
   ],
   "source": [
    "reals2 = np.linspace(0, 1, 100)\n",
    "\n",
    "plt.plot(reals2, pdf(reals2.reshape(-1, 1),h0,e0), \n",
    "         label=\"p(s_num=c,den=c, x)\")\n",
    "plt.plot(reals2, pdf(reals2.reshape(-1, 1),h1,e1), \n",
    "        label=\"p(s_num=c,den=c), x~c\")\n",
    "plt.legend()\n",
    "plt.show()"
   ]
  },
  {
   "cell_type": "code",
   "execution_count": 169,
   "metadata": {
    "collapsed": false
   },
   "outputs": [
    {
     "name": "stdout",
     "output_type": "stream",
     "text": [
      "[  0.00000000e+00   2.17365778e-01   8.61164708e-01   2.23137901e-01\n",
      "   2.71711695e+00   2.89207768e+00   2.43493716e+00   2.39115082e+00\n",
      "   2.11372742e+00   2.01002476e+00   1.92441706e+00   7.55639820e-01\n",
      "   2.52788386e+00   5.93363383e+01   9.61893717e+03   3.30481861e+02\n",
      "   0.00000000e+00]\n",
      "[array([       -inf,  0.00785203,  0.314248  ,  0.39181736,  0.66250199,\n",
      "        0.68900067,  0.70290071,  0.73296309,  0.7666707 ,  0.78483766,\n",
      "        0.82304615,  0.86222684,  0.97206753,  0.99841368,  0.9995361 ,\n",
      "        0.99953789,  0.99988949,         inf], dtype=float32)]\n"
     ]
    },
    {
     "data": {
      "image/png": "[encoded data removed]",
      "text/plain": [
       "<matplotlib.figure.Figure at 0x89315d0>"
      ]
     },
     "metadata": {},
     "output_type": "display_data"
    }
   ],
   "source": [
    "print(h1_b)\n",
    "print(e1_b)\n",
    "#print(reals2)\n",
    "plt.plot(reals2, pdf(reals2.reshape(-1, 1),h0_b,e0_b), \n",
    "         label=\"p(s_num=c,den=c, x)\")\n",
    "plt.plot(reals2, pdf(reals2.reshape(-1, 1),h1_b,e1_b), \n",
    "        label=\"p(s_num=c,den=c), x~c\")\n",
    "plt.legend()\n",
    "plt.show()"
   ]
  },
  {
   "cell_type": "code",
   "execution_count": 170,
   "metadata": {
    "collapsed": false
   },
   "outputs": [
    {
     "name": "stdout",
     "output_type": "stream",
     "text": [
      "[ 0.          0.078       0.042       0.066       0.11399998  0.12600001\n",
      "  0.16800001  0.078       0.06599997  0.34800002  1.38600008  1.23000007\n",
      "  0.43200003  0.35400002  0.10800001  0.06        0.06599994  0.02400002\n",
      "  0.02999997  0.04200004  2.06399828  2.29200219  3.34199721  1.27800122\n",
      "  2.30399808  2.26200216  2.22599814  1.06800102  0.10799991  0.22200021\n",
      "  8.01599331  0.        ]\n",
      "[array([       -inf,  0.        ,  0.03333334,  0.06666667,  0.1       ,\n",
      "        0.13333334,  0.16666667,  0.2       ,  0.23333333,  0.26666668,\n",
      "        0.30000001,  0.33333334,  0.36666667,  0.40000001,  0.43333334,\n",
      "        0.46666667,  0.5       ,  0.53333336,  0.56666666,  0.60000002,\n",
      "        0.63333333,  0.66666669,  0.69999999,  0.73333335,  0.76666665,\n",
      "        0.80000001,  0.83333331,  0.86666667,  0.89999998,  0.93333334,\n",
      "        0.96666664,  1.        ,         inf], dtype=float32)]\n"
     ]
    }
   ],
   "source": [
    "print(h1)\n",
    "print(e1)"
   ]
  },
  {
   "cell_type": "code",
   "execution_count": 171,
   "metadata": {
    "collapsed": false
   },
   "outputs": [
    {
     "name": "stdout",
     "output_type": "stream",
     "text": [
      "[  0.00000000e+00   2.17365778e-01   8.61164708e-01   2.23137901e-01\n",
      "   2.71711695e+00   2.89207768e+00   2.43493716e+00   2.39115082e+00\n",
      "   2.11372742e+00   2.01002476e+00   1.92441706e+00   7.55639820e-01\n",
      "   2.52788386e+00   5.93363383e+01   9.61893717e+03   3.30481861e+02\n",
      "   0.00000000e+00]\n",
      "[array([       -inf,  0.00785203,  0.314248  ,  0.39181736,  0.66250199,\n",
      "        0.68900067,  0.70290071,  0.73296309,  0.7666707 ,  0.78483766,\n",
      "        0.82304615,  0.86222684,  0.97206753,  0.99841368,  0.9995361 ,\n",
      "        0.99953789,  0.99988949,         inf], dtype=float32)]\n"
     ]
    }
   ],
   "source": [
    "print(h1_b)\n",
    "print(e1_b)"
   ]
  },
  {
   "cell_type": "code",
   "execution_count": 172,
   "metadata": {
    "collapsed": false
   },
   "outputs": [
    {
     "data": {
      "text/plain": [
       "<matplotlib.text.Text at 0x8f47910>"
      ]
     },
     "execution_count": 172,
     "metadata": {},
     "output_type": "execute_result"
    },
    {
     "data": {
      "image/png": "[encoded data removed]",
      "text/plain": [
       "<matplotlib.figure.Figure at 0x8931f50>"
      ]
     },
     "metadata": {},
     "output_type": "display_data"
    }
   ],
   "source": [
    "x = np.linspace(0.,1.,10)\n",
    "cum1 = [h1[:np.argmin(e1[0] < k)].sum() for k in x]\n",
    "cum1_b = [h1_b[:np.argmin(e1_b[0] < k)].sum() for k in x]\n",
    "plt.plot(x,cum1,label='hist')\n",
    "plt.plot(x,cum1_b,label='var bin')\n",
    "plt.legend()\n",
    "plt.title('Cumulative sum')\n",
    "plt.ylabel('cumulative sum')\n",
    "plt.xlabel('x values')"
   ]
  },
  {
   "cell_type": "code",
   "execution_count": 50,
   "metadata": {
    "collapsed": false
   },
   "outputs": [
    {
     "data": {
      "text/plain": [
       "2315"
      ]
     },
     "execution_count": 50,
     "metadata": {},
     "output_type": "execute_result"
    }
   ],
   "source": [
    "h1_b[np.argmin(e1_b[0] < 0.8):].sum()"
   ]
  },
  {
   "cell_type": "code",
   "execution_count": null,
   "metadata": {
    "collapsed": true
   },
   "outputs": [],
   "source": []
  },
  {
   "cell_type": "code",
   "execution_count": null,
   "metadata": {
    "collapsed": true
   },
   "outputs": [],
   "source": []
  }
 ],
 "metadata": {
  "kernelspec": {
   "display_name": "Python 2",
   "language": "python",
   "name": "python2"
  },
  "language_info": {
   "codemirror_mode": {
    "name": "ipython",
    "version": 2
   },
   "file_extension": ".py",
   "mimetype": "text/x-python",
   "name": "python",
   "nbconvert_exporter": "python",
   "pygments_lexer": "ipython2",
   "version": "2.7.5"
  }
 },
 "nbformat": 4,
 "nbformat_minor": 0
}
