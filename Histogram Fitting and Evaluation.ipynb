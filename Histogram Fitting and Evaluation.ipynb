{
 "cells": [
  {
   "cell_type": "markdown",
   "metadata": {},
   "source": [
    "# Carl histograms optimization\n",
    "\n",
    "Comparing methods to build the optimal histogram using carl."
   ]
  },
  {
   "cell_type": "code",
   "execution_count": 71,
   "metadata": {
    "collapsed": false
   },
   "outputs": [
    {
     "name": "stdout",
     "output_type": "stream",
     "text": [
      "The autoreload extension is already loaded. To reload it, use:\n",
      "  %reload_ext autoreload\n"
     ]
    }
   ],
   "source": [
    "%matplotlib inline\n",
    "%load_ext autoreload\n",
    "%autoreload 2\n",
    "import matplotlib.pyplot as plt\n",
    "\n",
    "import numpy as np\n",
    "import theano\n",
    "from scipy.stats import chi2\n",
    "from itertools import product\n",
    "\n",
    "import os, sys, inspect\n",
    "cmd_folder = os.path.realpath(os.path.abspath(os.path.split(inspect.getfile( inspect.currentframe() ))[0]))\n",
    "if cmd_folder not in sys.path:\n",
    "    sys.path.insert(0, cmd_folder + '/../systematics/carl')\n",
    "\n",
    "import carl\n",
    "\n",
    "np.random.seed(314)"
   ]
  },
  {
   "cell_type": "code",
   "execution_count": 72,
   "metadata": {
    "collapsed": false
   },
   "outputs": [],
   "source": [
    "from carl.distributions import Normal\n",
    "from carl.distributions import Mixture\n",
    "\n",
    "components_0 = [\n",
    "    Normal(mu=-2.0, sigma=0.75),   # c0\n",
    "    Normal(mu=0.0, sigma=2.0),     # c1\n",
    "    Normal(mu=1.0, sigma=0.5)      # c2 (bump)\n",
    "]\n",
    "\n",
    "components_1 = [\n",
    "    Normal(mu=-3.0, sigma=0.55),   # c0\n",
    "    Normal(mu=1.0, sigma=1.0),     # c1\n",
    "    Normal(mu=2.0, sigma=0.5)      # c2 (bump)\n",
    "]\n",
    "\n",
    "bump_coefficient = 0.05\n",
    "g = theano.shared(bump_coefficient) \n",
    "#p0 = Mixture(components=components_0, weights=[0.5 - g / 2., 0.5 - g / 2., g])\n",
    "#p1 = Mixture(components=components_1, weights=[0.5 - g / 2., 0.5 - g / 2., g])\n",
    "p0 = Normal(mu=-2.0, sigma=0.75)\n",
    "p1 = Normal(mu=-1., sigma=0.5)"
   ]
  },
  {
   "cell_type": "code",
   "execution_count": 73,
   "metadata": {
    "collapsed": true
   },
   "outputs": [],
   "source": [
    "X_true = p0.rvs(5000, random_state=777)"
   ]
  },
  {
   "cell_type": "code",
   "execution_count": 74,
   "metadata": {
    "collapsed": false
   },
   "outputs": [
    {
     "data": {
      "image/png": "[encoded data removed]",
      "text/plain": [
       "<matplotlib.figure.Figure at 0x7ffb490>"
      ]
     },
     "metadata": {},
     "output_type": "display_data"
    }
   ],
   "source": [
    "reals = np.linspace(-5, 5, num=1000)\n",
    "plt.plot(reals, p0.pdf(reals.reshape(-1, 1)), label=r\"$p(x|\\gamma=0.05)$\", color=\"b\")\n",
    "plt.plot(reals, p1.pdf(reals.reshape(-1, 1)), label=r\"$p(x|\\gamma=0)$\", color=\"r\")\n",
    "plt.hist(X_true[:, 0], bins=100, normed=True, label=\"data\", alpha=0.2, color=\"b\")\n",
    "plt.xlim(-5, 5)\n",
    "plt.legend(loc=\"best\", prop={'size': 8})\n",
    "#plt.savefig(\"fig1a.pdf\")\n",
    "plt.show()"
   ]
  },
  {
   "cell_type": "code",
   "execution_count": 75,
   "metadata": {
    "collapsed": false
   },
   "outputs": [
    {
     "data": {
      "text/plain": [
       "Wrapper(base_estimator=MLPRegressor(activation='logistic', algorithm='l-bfgs', alpha=0.0001,\n",
       "       batch_size='auto', beta_1=0.9, beta_2=0.999, early_stopping=False,\n",
       "       epsilon=1e-08, hidden_layer_sizes=(10, 10),\n",
       "       learning_rate='constant', learning_rate_init=1e-07, max_iter=75,\n",
       "       momentum=0.9, nesterovs_momentum=True, power_t=0.5, random_state=1,\n",
       "       shuffle=True, tol=1e-05, validation_fraction=0.1, verbose=False,\n",
       "       warm_start=False))"
      ]
     },
     "execution_count": 75,
     "metadata": {},
     "output_type": "execute_result"
    }
   ],
   "source": [
    "from sklearn.model_selection import StratifiedShuffleSplit\n",
    "from sklearn.neural_network import MLPRegressor\n",
    "from carl.ratios import ClassifierRatio\n",
    "from carl.ratios import DecomposedRatio\n",
    "from carl.learning import CalibratedClassifierCV\n",
    "from carl.learning import as_classifier\n",
    "\n",
    "n_samples = 200000\n",
    "clf = as_classifier(MLPRegressor(tol=1e-05, activation=\"logistic\", \n",
    "                   hidden_layer_sizes=(10, 10), learning_rate_init=1e-07, \n",
    "                   learning_rate=\"constant\", algorithm=\"l-bfgs\", random_state=1, \n",
    "                   max_iter=75))\n",
    "\n",
    "p0_data = p0.rvs(n_samples // 2, random_state=1234)\n",
    "p1_data = p1.rvs(n_samples // 2, random_state=1234)\n",
    "\n",
    "X = np.vstack((p0_data, p1_data))\n",
    "y = np.zeros(n_samples, dtype=np.int)\n",
    "y[n_samples//2:] = 1\n",
    "\n",
    "clf.fit(X=X, y=y)\n"
   ]
  },
  {
   "cell_type": "code",
   "execution_count": 76,
   "metadata": {
    "collapsed": false
   },
   "outputs": [
    {
     "data": {
      "text/plain": [
       "ClassifierRatio(base_estimator=CalibratedClassifierCV(base_estimator=Wrapper(base_estimator=MLPRegressor(activation='logistic', algorithm='l-bfgs', alpha=0.0001,\n",
       "       batch_size='auto', beta_1=0.9, beta_2=0.999, early_stopping=False,\n",
       "       epsilon=1e-08, hidden_layer_sizes=(10, 10),\n",
       "       learning_rate='constan...0.1, verbose=False,\n",
       "       warm_start=False)),\n",
       "            bins=20, cv='prefit', method='histogram'),\n",
       "        random_state=0)"
      ]
     },
     "execution_count": 76,
     "metadata": {},
     "output_type": "execute_result"
    }
   ],
   "source": [
    "# Calibration + Direct approximation \n",
    "#cv = StratifiedShuffleSplit(n_iter=1, test_size=0.5, random_state=1)\n",
    "cc_direct = ClassifierRatio(\n",
    "    base_estimator=CalibratedClassifierCV(clf, cv='prefit', bins=20, var_width=False), \n",
    "    random_state=0)\n",
    "\n",
    "cc_direct.fit(X=X, y=y)"
   ]
  },
  {
   "cell_type": "code",
   "execution_count": 77,
   "metadata": {
    "collapsed": false
   },
   "outputs": [
    {
     "name": "stdout",
     "output_type": "stream",
     "text": [
      "-2.12801575189\n",
      "0.0570568328333\n"
     ]
    },
    {
     "data": {
      "image/png": "[encoded data removed]",
      "text/plain": [
       "<matplotlib.figure.Figure at 0xbe15f90>"
      ]
     },
     "metadata": {},
     "output_type": "display_data"
    }
   ],
   "source": [
    "import carl\n",
    "reals2 = np.linspace(0, 1, 100)\n",
    "x = np.linspace(0.,1,300)\n",
    "cal_num, cal_den = cc_direct.classifier_.calibrators_[0].calibrators\n",
    "print(cal_num.amise(biased=False))\n",
    "print(cal_num.amise(biased=True))\n",
    "plt.plot(x, cal_num.pdf(x.reshape(-1, 1)), \n",
    "         label=\"p(s_num=c,den=c, x\", c='b')\n",
    "plt.plot(x, cal_den.pdf(x.reshape(-1, 1)), \n",
    "        label=\"p(s_num=c,den=c), x~c\", c='r')\n",
    "plt.legend()\n",
    "plt.show()"
   ]
  },
  {
   "cell_type": "code",
   "execution_count": 83,
   "metadata": {
    "collapsed": false
   },
   "outputs": [
    {
     "name": "stdout",
     "output_type": "stream",
     "text": [
      " 70.0  61.0  53.0  47.0  43.0  39.0  36.0  33.0  31.0  29.0  27.0  26.0  24.0  23.0  22.0  21.0  20.0  19.0  18.0  18.0  17.0  16.0  16.0  15.0  15.0  14.0  14.0  13.0  13.0  13.0  12.0  12.0  12.0  11.0  11.0  11.0  11.0  10.0  10.0  10.0  10.0  10.0  9.0  9.0  9.0  9.0  9.0  9.0  8.0  8.0 \n"
     ]
    }
   ],
   "source": [
    "import carl\n",
    "amises_biased_num = []\n",
    "amises_unbiased_num = []\n",
    "amises_biased_den = []\n",
    "amises_unbiased_den = []\n",
    "h_num, h_den = [],[]\n",
    "#for n_bins in range(30,50,1):\n",
    "for h in np.linspace(0.1,0.9,50):\n",
    "    n_bins = np.ceil((X.max()-X.min())/h)\n",
    "    print(str(n_bins) + ' '),\n",
    "    cc_direct = ClassifierRatio(\n",
    "        base_estimator=CalibratedClassifierCV(clf, cv='prefit', bins=n_bins, var_width=False), \n",
    "        random_state=0)\n",
    "    cc_direct.fit(X=X, y=y)\n",
    "\n",
    "    cal_num, cal_den = cc_direct.classifier_.calibrators_[0].calibrators\n",
    "    amises_biased_num.append(cal_num.amise(biased=True))\n",
    "    amises_unbiased_num.append(cal_num.amise(biased=False))\n",
    "    amises_biased_den.append(cal_den.amise(biased=True))\n",
    "    amises_unbiased_den.append(cal_den.amise(biased=False))\n",
    "    h_num.append(cal_num.edges_[0][2]-cal_num.edges_[0][1])\n",
    "    h_den.append(cal_den.edges_[0][2]-cal_den.edges_[0][1])\n",
    "    #print(cal_num.oversmoothed_bins(X[:n_samples//2]))"
   ]
  },
  {
   "cell_type": "code",
   "execution_count": 84,
   "metadata": {
    "collapsed": false
   },
   "outputs": [],
   "source": [
    "# Using numpu methods to estimate number of bins\n",
    "methods = ['auto', 'fd', 'doane', 'scott', 'rice', 'sturges', 'sqrt']\n",
    "opt_bins = []\n",
    "opt_hs = []\n",
    "for m in methods:\n",
    "    cc_direct = ClassifierRatio(\n",
    "        base_estimator=CalibratedClassifierCV(clf, cv='prefit', bins=m, var_width=False), \n",
    "        random_state=0)\n",
    "    cc_direct.fit(X=X, y=y)\n",
    "    cal_num, cal_den = cc_direct.classifier_.calibrators_[0].calibrators\n",
    "    opt_hs.append(cal_num.edges_[0][2]-cal_num.edges_[0][1])\n",
    "    opt_bins.append(len(cal_num.edges_[0]) - 3)"
   ]
  },
  {
   "cell_type": "code",
   "execution_count": 85,
   "metadata": {
    "collapsed": false
   },
   "outputs": [
    {
     "name": "stdout",
     "output_type": "stream",
     "text": [
      "Width upper bound: 122.484727045\n",
      "The optimum bin width is (BCV) : 0.540816326531\n",
      "The optimum number of bins is (BCV) : 13.0\n",
      "The optimum bin width is (UCV) : 0.1\n",
      "The optimum number of bins is (UCV) : 70.0\n",
      "Numpy methods:\n",
      "['auto', 'fd', 'doane', 'scott', 'rice', 'sturges', 'sqrt']\n",
      "Numpy optimal widths:\n",
      "[0.020408163265306121, 0.020408163265306121, 0.040000000000000001, 0.021276595744680851, 0.010752688172043012, 0.055555555555555552, 0.0031545741324921135]\n",
      "Numpy optimal bins:\n",
      "[49, 49, 25, 47, 93, 18, 317]\n"
     ]
    },
    {
     "data": {
      "image/png": "[encoded data removed]",
      "text/plain": [
       "<matplotlib.figure.Figure at 0x6f81250>"
      ]
     },
     "metadata": {},
     "output_type": "display_data"
    }
   ],
   "source": [
    "#print(h_num)\n",
    "#xs = range(10,80,1)\n",
    "hs = np.linspace(0.1,0.9,50)\n",
    "plt.subplot(211)\n",
    "plt.plot(hs, amises_biased_num)\n",
    "plt.subplot(212)         \n",
    "plt.plot(hs, amises_unbiased_num)\n",
    "opt_h_bcv = hs[np.argmin(amises_biased_num)]\n",
    "opt_bin_bcv = np.ceil((X.max()-X.min())/opt_h_bcv)\n",
    "opt_h_ucv = hs[np.argmin(amises_unbiased_num)]\n",
    "opt_bin_ucv = np.ceil((X.max()-X.min())/opt_h_ucv)\n",
    "print('Width upper bound: {0}'.format(cal_num.oversmoothed_bins(X[:n_samples//2])))\n",
    "print('The optimum bin width is (BCV) : {0}'.format(opt_h_bcv))\n",
    "print('The optimum number of bins is (BCV) : {0}'.format(opt_bin_bcv))\n",
    "print('The optimum bin width is (UCV) : {0}'.format(opt_h_ucv))\n",
    "print('The optimum number of bins is (UCV) : {0}'.format(opt_bin_ucv))\n",
    "print('Numpy methods:')\n",
    "print(methods)\n",
    "print('Numpy optimal widths:')\n",
    "print(opt_hs)\n",
    "print('Numpy optimal bins:')\n",
    "print(opt_bins)"
   ]
  },
  {
   "cell_type": "code",
   "execution_count": 89,
   "metadata": {
    "collapsed": false
   },
   "outputs": [
    {
     "name": "stdout",
     "output_type": "stream",
     "text": [
      "-2.89315952881\n",
      "0.112299938408\n"
     ]
    },
    {
     "data": {
      "image/png": "[encoded data removed]",
      "text/plain": [
       "<matplotlib.figure.Figure at 0xc513a50>"
      ]
     },
     "metadata": {},
     "output_type": "display_data"
    }
   ],
   "source": [
    "cc_direct = ClassifierRatio(\n",
    "    base_estimator=CalibratedClassifierCV(clf, cv='prefit', bins=47, var_width=False), \n",
    "    random_state=0)\n",
    "cc_direct.fit(X=X, y=y)\n",
    "cal_num, cal_den = cc_direct.classifier_.calibrators_[0].calibrators\n",
    "reals2 = np.linspace(0, 1, 100)\n",
    "x = np.linspace(0.,1,300)\n",
    "cal_num, cal_den = cc_direct.classifier_.calibrators_[0].calibrators\n",
    "print(cal_num.amise(biased=False))\n",
    "print(cal_num.amise(biased=True))\n",
    "plt.plot(x, cal_num.pdf(x.reshape(-1, 1)), \n",
    "         label=\"p(s_num=c,den=c, x\", c='b')\n",
    "plt.plot(x, cal_den.pdf(x.reshape(-1, 1)), \n",
    "        label=\"p(s_num=c,den=c), x~c\", c='r')\n",
    "plt.legend()\n",
    "plt.show()"
   ]
  },
  {
   "cell_type": "code",
   "execution_count": null,
   "metadata": {
    "collapsed": true
   },
   "outputs": [],
   "source": []
  }
 ],
 "metadata": {
  "kernelspec": {
   "display_name": "Python 2",
   "language": "python",
   "name": "python2"
  },
  "language_info": {
   "codemirror_mode": {
    "name": "ipython",
    "version": 2
   },
   "file_extension": ".py",
   "mimetype": "text/x-python",
   "name": "python",
   "nbconvert_exporter": "python",
   "pygments_lexer": "ipython2",
   "version": "2.7.5"
  }
 },
 "nbformat": 4,
 "nbformat_minor": 0
}
